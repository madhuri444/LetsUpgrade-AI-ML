{
 "cells": [
  {
   "cell_type": "markdown",
   "metadata": {},
   "source": [
    "# Letsupgrade Day 4\n",
    "\n",
    "\n"
   ]
  },
  {
   "cell_type": "markdown",
   "metadata": {},
   "source": [
    "# 1.Research on whether addition, subtraction, multiplication, division, floor division and modulo operations be performed on complex numbers. Based on your study, implement a Python program to demonstrate these operations.\n",
    "\n"
   ]
  },
  {
   "cell_type": "code",
   "execution_count": 4,
   "metadata": {},
   "outputs": [
    {
     "name": "stdout",
     "output_type": "stream",
     "text": [
      "(5+4j)\n",
      "(-1+2j)\n",
      "(3+11j)\n",
      "(0.8999999999999999+0.7000000000000001j)\n"
     ]
    }
   ],
   "source": [
    "num1 = 2 + 3j\n",
    "num2 = 3 + 1j\n",
    "add = num1+num2\n",
    "sub = num1-num2\n",
    "mul = num1*num2\n",
    "div = num1/num2\n",
    "#fdiv = num1//num2\n",
    "#mod = num1%num2\n",
    "print(add)\n",
    "print(sub)\n",
    "print(mul)\n",
    "print(div)\n",
    "#  modulus and floor division cannot be performed on complex numbers\n"
   ]
  },
  {
   "cell_type": "markdown",
   "metadata": {},
   "source": [
    "# 2. Research on range() functions and its parameters. Create a markdown cell and write in your own words (no copy-paste from google please) what you understand about it. Implement a small program of your choice on the same."
   ]
  },
  {
   "cell_type": "markdown",
   "metadata": {},
   "source": [
    "Range function returns an object that produces a sequence of integers from start to stop-1.start and stop can be integers. There is a step parameter which is optional."
   ]
  },
  {
   "cell_type": "code",
   "execution_count": 7,
   "metadata": {},
   "outputs": [
    {
     "name": "stdout",
     "output_type": "stream",
     "text": [
      "0\n",
      "2\n",
      "4\n",
      "6\n",
      "8\n"
     ]
    }
   ],
   "source": [
    "for i in range(0,10,2):\n",
    "    print(i) "
   ]
  },
  {
   "cell_type": "markdown",
   "metadata": {},
   "source": [
    "# 3. Consider two numbers. Perform their subtraction and if the result of subtraction is greater than 25, print their multiplication result else print their division result.\n",
    "\n"
   ]
  },
  {
   "cell_type": "code",
   "execution_count": 9,
   "metadata": {},
   "outputs": [
    {
     "name": "stdout",
     "output_type": "stream",
     "text": [
      "enter a first number65\n",
      "enter a second number20\n",
      "1300\n"
     ]
    }
   ],
   "source": [
    "Num1 = int(input(\"enter a first number\"))\n",
    "Num2 = int(input(\"enter a second number\"))\n",
    "sub = Num1 - Num2 \n",
    "if(sub > 25):\n",
    "    print(Num1*Num2)\n",
    "else:\n",
    "    print(Num1/Num2)\n"
   ]
  },
  {
   "cell_type": "markdown",
   "metadata": {},
   "source": [
    "# 4.Consider a list of 10 elements of integer values. If the number in the list is divisible by 2, print the result as \"square of that number minus 2\".\n"
   ]
  },
  {
   "cell_type": "code",
   "execution_count": 11,
   "metadata": {},
   "outputs": [
    {
     "name": "stdout",
     "output_type": "stream",
     "text": [
      "20 square of that number minus 2\n",
      "30 square of that number minus 2\n",
      "40 square of that number minus 2\n",
      "60 square of that number minus 2\n",
      "76 square of that number minus 2\n",
      "80 square of that number minus 2\n"
     ]
    }
   ],
   "source": [
    "list =  [11,20,30,40,53,60,76,80,41,183]\n",
    "for i in list:\n",
    "    if(i % 2 == 0):\n",
    "        print(i,'square of that number minus 2')\n",
    "        "
   ]
  },
  {
   "cell_type": "markdown",
   "metadata": {},
   "source": [
    "# 5.Consider a list of 10 elements. Print all the elements in the list which are greater than 7 when that number is divided 2..\n"
   ]
  },
  {
   "cell_type": "code",
   "execution_count": 13,
   "metadata": {},
   "outputs": [
    {
     "name": "stdout",
     "output_type": "stream",
     "text": [
      "30\n",
      "60\n",
      "76\n",
      "80\n"
     ]
    }
   ],
   "source": [
    "list =  [11,4,30,2,53,60,76,80,41,183]\n",
    "for i in list:\n",
    "    if((i %2 == 0) and (i > 7)):\n",
    "        print(i)\n",
    "    "
   ]
  }
 ],
 "metadata": {
  "kernelspec": {
   "display_name": "Python 3",
   "language": "python",
   "name": "python3"
  },
  "language_info": {
   "codemirror_mode": {
    "name": "ipython",
    "version": 3
   },
   "file_extension": ".py",
   "mimetype": "text/x-python",
   "name": "python",
   "nbconvert_exporter": "python",
   "pygments_lexer": "ipython3",
   "version": "3.7.6"
  }
 },
 "nbformat": 4,
 "nbformat_minor": 4
}
