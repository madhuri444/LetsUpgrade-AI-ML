{
 "cells": [
  {
   "cell_type": "markdown",
   "metadata": {},
   "source": [
    "\n",
    "# 1. Create a 3x3x3 array with random values"
   ]
  },
  {
   "cell_type": "code",
   "execution_count": null,
   "metadata": {},
   "outputs": [],
   "source": [
    "import numpy as np\n",
    "a = np.random.random((3,3,3))\n",
    "print(np.ndim(a))\n",
    "print(a)"
   ]
  },
  {
   "cell_type": "markdown",
   "metadata": {},
   "source": [
    "# 2.Create a 5x5 matrix with values 1,2,3,4 just below the diagonal"
   ]
  },
  {
   "cell_type": "code",
   "execution_count": null,
   "metadata": {},
   "outputs": [],
   "source": [
    "import numpy as np\n",
    "x = np.diag([1,2,3,4],k = -1)\n",
    "print(x)\n",
    "print(np.ndim(x))\n"
   ]
  },
  {
   "cell_type": "markdown",
   "metadata": {},
   "source": [
    "# 3.Create a 8x8 matrix and fill it with a checkerboard pattern"
   ]
  },
  {
   "cell_type": "code",
   "execution_count": null,
   "metadata": {},
   "outputs": [],
   "source": [
    "import numpy as np\n",
    "a = np.zeros((8,8),dtype = int)\n",
    "print(\"CheckerBoard\")\n",
    "a[1::2,::2] = 1\n",
    "a[::2,1::2]= 1\n",
    "print(a)"
   ]
  },
  {
   "cell_type": "markdown",
   "metadata": {},
   "source": [
    "# 4. Normalize a 5x5 random matrix"
   ]
  },
  {
   "cell_type": "code",
   "execution_count": null,
   "metadata": {},
   "outputs": [],
   "source": [
    "import numpy as np\n",
    "mat = np.random.random((5,5))\n",
    "print(mat)\n",
    "mat1 = mat\n",
    "print(mat1)\n",
    "xmin = mat.min()\n",
    "xmax = mat.max()\n",
    "mat = (mat - xmax)/(xmax-xmin)\n",
    "print(mat)\n",
    "from sklearn.preprocessing import MinMaxScaler\n",
    "minmax = MinMaxScaler(mat)\n",
    "print(minmax)\n"
   ]
  },
  {
   "cell_type": "markdown",
   "metadata": {},
   "source": [
    "# 5. How to find common values between two arrays?"
   ]
  },
  {
   "cell_type": "code",
   "execution_count": null,
   "metadata": {},
   "outputs": [],
   "source": [
    "import numpy as np\n",
    "ar1 =  np.arange(0,10)\n",
    "ar3 = ar1.reshape((2,5))\n",
    "ar2 = np.arange(5,15)\n",
    "ar4 = ar2.reshape((2,5))\n",
    "print(ar3,ar4)\n",
    "print(np.intersect1d(ar1,ar2))"
   ]
  },
  {
   "cell_type": "markdown",
   "metadata": {},
   "source": [
    "# 6. How to get the dates of yesterday, today and tomorrow?"
   ]
  },
  {
   "cell_type": "code",
   "execution_count": null,
   "metadata": {},
   "outputs": [],
   "source": [
    "import numpy as np\n",
    "print(\"Todays date :\" ,np.datetime64('today'))\n",
    "print(\"Tomorrows date :\" ,np.datetime64('today') + np.timedelta64(1,'D'))\n",
    "print(\"Yesterdays date :\" ,np.datetime64('today') - np.timedelta64(1,'D')) \n",
    "\n"
   ]
  },
  {
   "cell_type": "markdown",
   "metadata": {},
   "source": [
    "# 7. Consider two random array A and B, check if they are equal\n"
   ]
  },
  {
   "cell_type": "code",
   "execution_count": null,
   "metadata": {},
   "outputs": [],
   "source": [
    "import numpy as np\n",
    "import random\n",
    "from numpy.random import RandomState\n",
    "random.seed(20)\n",
    "arvind = RandomState(12)\n",
    "madhuri =  RandomState(12)\n",
    "arr1 = arvind.randint(-1, 2, size=10).reshape(2,5)\n",
    "arr2 = madhuri.randint(-1, 2, size=10).reshape(2,5)\n",
    "print(arr1)\n",
    "print(arr2)\n",
    "print(np.ma.allequal(arr1,arr2))\n"
   ]
  },
  {
   "cell_type": "markdown",
   "metadata": {},
   "source": [
    "# 8.Create random vector of size 10 and replace the maximum value by 0"
   ]
  },
  {
   "cell_type": "code",
   "execution_count": null,
   "metadata": {},
   "outputs": [],
   "source": [
    "import numpy as np\n",
    "arr = np.random.random((10))\n",
    "print(arr)\n",
    "print(np.unravel_index(np.argmax(arr),arr.shape))\n",
    "arr[np.argmax(arr)]= 0\n",
    "print(arr)\n"
   ]
  },
  {
   "cell_type": "markdown",
   "metadata": {},
   "source": [
    "# 9.How to print all the values of an array"
   ]
  },
  {
   "cell_type": "code",
   "execution_count": null,
   "metadata": {},
   "outputs": [],
   "source": [
    "import numpy as np\n",
    "arr = np.arange(1,10)\n",
    "print(arr)\n",
    "print(arr[:])"
   ]
  },
  {
   "cell_type": "markdown",
   "metadata": {},
   "source": [
    "# 10.Subtract the mean of each row of a matrix"
   ]
  },
  {
   "cell_type": "code",
   "execution_count": null,
   "metadata": {},
   "outputs": [],
   "source": [
    "import numpy as np\n",
    "a = np.matrix([[1,2],[3,4]])\n",
    "print(a[0]-(a[0].mean()))\n",
    "print(a[1] - (a[1].mean()))\n",
    "\n"
   ]
  },
  {
   "cell_type": "markdown",
   "metadata": {},
   "source": [
    "# 11.Consider a given vector, how to add 1 to each element indexed by a second vector (be careful with repeated indices)?"
   ]
  },
  {
   "cell_type": "code",
   "execution_count": null,
   "metadata": {},
   "outputs": [],
   "source": [
    "Z = np.ones(10)\n",
    "I = np.random.randint(0,len(Z),10)\n",
    "print(I)\n",
    "Z += np.bincount(I, minlength=len(Z))\n",
    "print(Z)"
   ]
  },
  {
   "cell_type": "markdown",
   "metadata": {},
   "source": [
    "# 12.How to get the diagonal of a dot product?"
   ]
  },
  {
   "cell_type": "code",
   "execution_count": null,
   "metadata": {},
   "outputs": [],
   "source": [
    "import numpy as np \n",
    "\n",
    "A = np.array([[1,2],[3,4]]) \n",
    "B = np.array([[11,12],[13,14]]) \n",
    "c = np.dot(A,B)\n",
    "print(c)\n",
    "print(c.diagonal())\n"
   ]
  },
  {
   "cell_type": "markdown",
   "metadata": {},
   "source": [
    "# 13.How to find the most frequent value in an array?"
   ]
  },
  {
   "cell_type": "code",
   "execution_count": null,
   "metadata": {},
   "outputs": [],
   "source": [
    "import numpy as np \n",
    "from scipy import stats\n",
    "a = np.array([1,2,3,4,1,2,2])\n",
    "mode = stats.mode(a)\n",
    "print(mode)\n"
   ]
  },
  {
   "cell_type": "markdown",
   "metadata": {},
   "source": [
    "# 14.How to get the n largest values of an array"
   ]
  },
  {
   "cell_type": "code",
   "execution_count": null,
   "metadata": {},
   "outputs": [],
   "source": [
    "import numpy as np \n",
    "a = np.array([1,2,3,4,5,6,8])\n",
    "c = sorted(a , reverse = True)\n",
    "print(c)\n",
    "b =  int(input(\"Enter the number:\"))\n",
    "print(c[:b])"
   ]
  },
  {
   "cell_type": "markdown",
   "metadata": {},
   "source": [
    "# 15.How to create a record array from a regular array?"
   ]
  },
  {
   "cell_type": "code",
   "execution_count": 8,
   "metadata": {},
   "outputs": [
    {
     "name": "stdout",
     "output_type": "stream",
     "text": [
      "[2 9]\n",
      "[(3801155, 1.37962320e-306, 7471207) (7143521, 7.56603881e-307, 4259932)\n",
      " (6357102, 8.90104239e-307, 3342433) (7077980, 1.78020169e-306, 7209076)\n",
      " (7602287, 8.34454050e-308, 7077988)]\n",
      "[7471207 4259932 3342433 7209076 7077988]\n"
     ]
    }
   ],
   "source": [
    "import numpy as np \n",
    "a = np.array([(2,4),(9,4.6)],dtype=[('x', '<i8'), ('y', '<f8')])\n",
    "print(a['x'])\n",
    "b = np.recarray((5),dtype=[('x', int), ('y', float), ('z', int)])\n",
    "print(b)\n",
    "print(b['z'])\n"
   ]
  },
  {
   "cell_type": "code",
   "execution_count": null,
   "metadata": {},
   "outputs": [],
   "source": []
  }
 ],
 "metadata": {
  "kernelspec": {
   "display_name": "Python 3",
   "language": "python",
   "name": "python3"
  },
  "language_info": {
   "codemirror_mode": {
    "name": "ipython",
    "version": 3
   },
   "file_extension": ".py",
   "mimetype": "text/x-python",
   "name": "python",
   "nbconvert_exporter": "python",
   "pygments_lexer": "ipython3",
   "version": "3.7.6"
  }
 },
 "nbformat": 4,
 "nbformat_minor": 4
}
