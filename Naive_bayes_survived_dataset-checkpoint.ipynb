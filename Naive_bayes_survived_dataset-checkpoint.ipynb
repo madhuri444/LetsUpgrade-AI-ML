{
 "cells": [
  {
   "cell_type": "code",
   "execution_count": 2,
   "metadata": {},
   "outputs": [],
   "source": [
    "import pandas as pd\n",
    "import numpy as np\n",
    "import matplotlib.pyplot as plt"
   ]
  },
  {
   "cell_type": "code",
   "execution_count": 3,
   "metadata": {},
   "outputs": [],
   "source": [
    "df = pd.read_csv(r'C:\\Users\\madhuri\\Desktop\\letsupgrade\\Day24\\train.csv')"
   ]
  },
  {
   "cell_type": "code",
   "execution_count": 4,
   "metadata": {},
   "outputs": [
    {
     "data": {
      "text/plain": [
       "PassengerId      0\n",
       "Survived         0\n",
       "Pclass           0\n",
       "Name             0\n",
       "Sex              0\n",
       "Age              0\n",
       "SibSp            0\n",
       "Parch            0\n",
       "Ticket           0\n",
       "Fare             0\n",
       "Cabin          687\n",
       "Embarked         0\n",
       "dtype: int64"
      ]
     },
     "execution_count": 4,
     "metadata": {},
     "output_type": "execute_result"
    }
   ],
   "source": [
    "df.isna().sum()"
   ]
  },
  {
   "cell_type": "code",
   "execution_count": 5,
   "metadata": {},
   "outputs": [
    {
     "name": "stdout",
     "output_type": "stream",
     "text": [
      "     PassengerId  Survived  Pclass  Name  Sex   Age  SibSp  Parch  Ticket  \\\n",
      "0              1         0       3   108    1  22.0      1      0     522   \n",
      "1              2         1       1   190    0  38.0      1      0     595   \n",
      "2              3         1       3   353    0  26.0      0      0     668   \n",
      "3              4         1       1   272    0  35.0      1      0      48   \n",
      "4              5         0       3    15    1  35.0      0      0     471   \n",
      "..           ...       ...     ...   ...  ...   ...    ...    ...     ...   \n",
      "884          887         0       2   547    1  27.0      0      0     100   \n",
      "885          888         1       1   303    0  19.0      0      0      14   \n",
      "886          889         0       3   412    0  45.0      1      2     674   \n",
      "887          890         1       1    81    1  26.0      0      0       8   \n",
      "888          891         0       3   220    1  32.0      0      0     465   \n",
      "\n",
      "        Fare  Cabin  Embarked  \n",
      "0     7.2500    146         2  \n",
      "1    71.2833     80         0  \n",
      "2     7.9250    146         2  \n",
      "3    53.1000     54         2  \n",
      "4     8.0500    146         2  \n",
      "..       ...    ...       ...  \n",
      "884  13.0000    146         2  \n",
      "885  30.0000     29         2  \n",
      "886  23.4500    146         2  \n",
      "887  30.0000     59         0  \n",
      "888   7.7500    146         1  \n",
      "\n",
      "[889 rows x 12 columns]\n"
     ]
    }
   ],
   "source": [
    "from sklearn.preprocessing import LabelEncoder\n",
    "lb = LabelEncoder()\n",
    "objList = df.select_dtypes(include = \"object\").columns\n",
    "for feat in objList:\n",
    "    df[feat] = lb.fit_transform(df[feat].astype(str))\n",
    "print(df)    "
   ]
  },
  {
   "cell_type": "code",
   "execution_count": 6,
   "metadata": {},
   "outputs": [
    {
     "data": {
      "text/plain": [
       "\"x = df[['Pclass', 'Sex','Age','SibSp','Parch','Fare','Embarked']]\\ny = df['Survived']\\nprint(x)\\nprint(y)\""
      ]
     },
     "execution_count": 6,
     "metadata": {},
     "output_type": "execute_result"
    }
   ],
   "source": [
    "'''x = df[['Pclass', 'Sex','Age','SibSp','Parch','Fare','Embarked']]\n",
    "y = df['Survived']\n",
    "print(x)\n",
    "print(y)'''"
   ]
  },
  {
   "cell_type": "code",
   "execution_count": 7,
   "metadata": {},
   "outputs": [
    {
     "data": {
      "text/plain": [
       "'from sklearn.model_selection import train_test_split\\nx_train,x_test,y_train,y_test = train_test_split(x,y,test_size = 0.3,random_state = 42)\\nprint(x_test)'"
      ]
     },
     "execution_count": 7,
     "metadata": {},
     "output_type": "execute_result"
    }
   ],
   "source": [
    "'''from sklearn.model_selection import train_test_split\n",
    "x_train,x_test,y_train,y_test = train_test_split(x,y,test_size = 0.3,random_state = 42)\n",
    "print(x_test)'''"
   ]
  },
  {
   "cell_type": "code",
   "execution_count": 8,
   "metadata": {},
   "outputs": [
    {
     "data": {
      "text/plain": [
       "'from sklearn.naive_bayes import MultinomialNB\\nnaive_bayes = MultinomialNB()\\nnaive_bayes.fit(x_train,y_train)\\ny_pred = naive_bayes.predict(x_test)'"
      ]
     },
     "execution_count": 8,
     "metadata": {},
     "output_type": "execute_result"
    }
   ],
   "source": [
    "'''from sklearn.naive_bayes import MultinomialNB\n",
    "naive_bayes = MultinomialNB()\n",
    "naive_bayes.fit(x_train,y_train)\n",
    "y_pred = naive_bayes.predict(x_test)'''"
   ]
  },
  {
   "cell_type": "code",
   "execution_count": 9,
   "metadata": {},
   "outputs": [
    {
     "data": {
      "text/plain": [
       "'from sklearn.metrics import confusion_matrix,classification_report\\ncon = confusion_matrix(y_pred,y_test)\\nclas = classification_report(y_pred,y_test)\\nprint(con)\\nprint(clas)'"
      ]
     },
     "execution_count": 9,
     "metadata": {},
     "output_type": "execute_result"
    }
   ],
   "source": [
    "'''from sklearn.metrics import confusion_matrix,classification_report\n",
    "con = confusion_matrix(y_pred,y_test)\n",
    "clas = classification_report(y_pred,y_test)\n",
    "print(con)\n",
    "print(clas)'''"
   ]
  },
  {
   "cell_type": "code",
   "execution_count": 10,
   "metadata": {},
   "outputs": [],
   "source": [
    "\n",
    "#features = ['PassengerId','Survived','Pclass','Name','Sex','Age','SibSp','Parch','Ticket','Fare','Cabin','Embarked']\n",
    "\n"
   ]
  },
  {
   "cell_type": "code",
   "execution_count": 13,
   "metadata": {},
   "outputs": [
    {
     "name": "stdout",
     "output_type": "stream",
     "text": [
      "Survived\n",
      "[[101  44]\n",
      " [  8  25]]\n",
      "              precision    recall  f1-score   support\n",
      "\n",
      "           0       0.93      0.70      0.80       145\n",
      "           1       0.36      0.76      0.49        33\n",
      "\n",
      "    accuracy                           0.71       178\n",
      "   macro avg       0.64      0.73      0.64       178\n",
      "weighted avg       0.82      0.71      0.74       178\n",
      "\n",
      "------------------------------------------------------------------------------------\n",
      "Pclass\n",
      "[[17  4  8]\n",
      " [ 0  0  0]\n",
      " [27 38 84]]\n",
      "              precision    recall  f1-score   support\n",
      "\n",
      "           1       0.39      0.59      0.47        29\n",
      "           2       0.00      0.00      0.00         0\n",
      "           3       0.91      0.56      0.70       149\n",
      "\n",
      "    accuracy                           0.57       178\n",
      "   macro avg       0.43      0.38      0.39       178\n",
      "weighted avg       0.83      0.57      0.66       178\n",
      "\n",
      "------------------------------------------------------------------------------------\n",
      "Sex\n",
      "[[32  9]\n",
      " [41 96]]\n",
      "              precision    recall  f1-score   support\n",
      "\n",
      "           0       0.44      0.78      0.56        41\n",
      "           1       0.91      0.70      0.79       137\n",
      "\n",
      "    accuracy                           0.72       178\n",
      "   macro avg       0.68      0.74      0.68       178\n",
      "weighted avg       0.80      0.72      0.74       178\n",
      "\n",
      "------------------------------------------------------------------------------------\n"
     ]
    },
    {
     "name": "stderr",
     "output_type": "stream",
     "text": [
      "C:\\ProgramData\\Anaconda3\\lib\\site-packages\\sklearn\\metrics\\_classification.py:1272: UndefinedMetricWarning: Recall and F-score are ill-defined and being set to 0.0 in labels with no true samples. Use `zero_division` parameter to control this behavior.\n",
      "  _warn_prf(average, modifier, msg_start, len(result))\n",
      "C:\\ProgramData\\Anaconda3\\lib\\site-packages\\sklearn\\metrics\\_classification.py:1272: UndefinedMetricWarning: Precision and F-score are ill-defined and being set to 0.0 in labels with no predicted samples. Use `zero_division` parameter to control this behavior.\n",
      "  _warn_prf(average, modifier, msg_start, len(result))\n",
      "C:\\ProgramData\\Anaconda3\\lib\\site-packages\\sklearn\\metrics\\_classification.py:1272: UndefinedMetricWarning: Recall and F-score are ill-defined and being set to 0.0 in labels with no true samples. Use `zero_division` parameter to control this behavior.\n",
      "  _warn_prf(average, modifier, msg_start, len(result))\n"
     ]
    },
    {
     "name": "stdout",
     "output_type": "stream",
     "text": [
      "SibSp\n",
      "[[109  31   3   1   1   0   0]\n",
      " [ 12   7   0   0   1   0   0]\n",
      " [  0   0   0   0   0   0   0]\n",
      " [  0   1   0   0   0   1   0]\n",
      " [  3   4   2   1   0   0   0]\n",
      " [  0   0   0   0   0   0   0]\n",
      " [  1   0   0   0   0   0   0]]\n",
      "              precision    recall  f1-score   support\n",
      "\n",
      "           0       0.87      0.75      0.81       145\n",
      "           1       0.16      0.35      0.22        20\n",
      "           2       0.00      0.00      0.00         0\n",
      "           3       0.00      0.00      0.00         2\n",
      "           4       0.00      0.00      0.00        10\n",
      "           5       0.00      0.00      0.00         0\n",
      "           8       0.00      0.00      0.00         1\n",
      "\n",
      "    accuracy                           0.65       178\n",
      "   macro avg       0.15      0.16      0.15       178\n",
      "weighted avg       0.73      0.65      0.68       178\n",
      "\n",
      "------------------------------------------------------------------------------------\n",
      "Parch\n",
      "[[128  23   7   1   2]\n",
      " [  3   0   1   0   0]\n",
      " [  2   7   4   0   0]\n",
      " [  0   0   0   0   0]\n",
      " [  0   0   0   0   0]]\n",
      "              precision    recall  f1-score   support\n",
      "\n",
      "           0       0.96      0.80      0.87       161\n",
      "           1       0.00      0.00      0.00         4\n",
      "           2       0.33      0.31      0.32        13\n",
      "           4       0.00      0.00      0.00         0\n",
      "           5       0.00      0.00      0.00         0\n",
      "\n",
      "    accuracy                           0.74       178\n",
      "   macro avg       0.26      0.22      0.24       178\n",
      "weighted avg       0.89      0.74      0.81       178\n",
      "\n",
      "------------------------------------------------------------------------------------\n",
      "Embarked\n",
      "[[  0   0   0]\n",
      " [  0   0   0]\n",
      " [ 36  12 130]]\n",
      "              precision    recall  f1-score   support\n",
      "\n",
      "           0       0.00      0.00      0.00         0\n",
      "           1       0.00      0.00      0.00         0\n",
      "           2       1.00      0.73      0.84       178\n",
      "\n",
      "    accuracy                           0.73       178\n",
      "   macro avg       0.33      0.24      0.28       178\n",
      "weighted avg       1.00      0.73      0.84       178\n",
      "\n",
      "------------------------------------------------------------------------------------\n"
     ]
    },
    {
     "name": "stderr",
     "output_type": "stream",
     "text": [
      "C:\\ProgramData\\Anaconda3\\lib\\site-packages\\sklearn\\metrics\\_classification.py:1272: UndefinedMetricWarning: Recall and F-score are ill-defined and being set to 0.0 in labels with no true samples. Use `zero_division` parameter to control this behavior.\n",
      "  _warn_prf(average, modifier, msg_start, len(result))\n",
      "C:\\ProgramData\\Anaconda3\\lib\\site-packages\\sklearn\\metrics\\_classification.py:1272: UndefinedMetricWarning: Recall and F-score are ill-defined and being set to 0.0 in labels with no true samples. Use `zero_division` parameter to control this behavior.\n",
      "  _warn_prf(average, modifier, msg_start, len(result))\n"
     ]
    }
   ],
   "source": [
    "#df = df[['Pclass', 'Sex','Age','SibSp','Parch','Fare','Embarked','Survived']]\n",
    "df = df[['Survived','Pclass','Sex','SibSp','Parch','Embarked','Age']]\n",
    "#print(df)\n",
    "from sklearn.naive_bayes import MultinomialNB\n",
    "from sklearn.model_selection import train_test_split\n",
    "from sklearn.metrics import confusion_matrix,classification_report\n",
    "features = ['Survived','Pclass','Sex','SibSp','Parch','Embarked']\n",
    "for i in features:\n",
    "    x = df.drop(i,axis = 1)\n",
    "    y = df[i]\n",
    "    x_train, x_test, y_train, y_test = train_test_split(x,y,test_size = 0.2,random_state = 42)\n",
    "    naive_bayes = MultinomialNB()\n",
    "    naive_bayes.fit(x_train,y_train)\n",
    "    y_pred = naive_bayes.predict(x_test)\n",
    "    con = confusion_matrix(y_pred,y_test)\n",
    "    clas = classification_report(y_pred,y_test)\n",
    "    print(i)\n",
    "    print(con)\n",
    "    print(clas)\n",
    "    print('------------------------------------------------------------------------------------')\n"
   ]
  },
  {
   "cell_type": "code",
   "execution_count": null,
   "metadata": {},
   "outputs": [],
   "source": []
  }
 ],
 "metadata": {
  "kernelspec": {
   "display_name": "Python 3",
   "language": "python",
   "name": "python3"
  },
  "language_info": {
   "codemirror_mode": {
    "name": "ipython",
    "version": 3
   },
   "file_extension": ".py",
   "mimetype": "text/x-python",
   "name": "python",
   "nbconvert_exporter": "python",
   "pygments_lexer": "ipython3",
   "version": "3.7.6"
  }
 },
 "nbformat": 4,
 "nbformat_minor": 4
}
