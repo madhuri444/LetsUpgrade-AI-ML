{
 "cells": [
  {
   "cell_type": "code",
   "execution_count": 18,
   "metadata": {},
   "outputs": [],
   "source": [
    "import pandas as pd\n",
    "import numpy as np\n",
    "import matplotlib.pyplot as plt"
   ]
  },
  {
   "cell_type": "code",
   "execution_count": 19,
   "metadata": {},
   "outputs": [],
   "source": [
    "df = pd.read_csv(r'C:\\Users\\madhuri\\Desktop\\letsupgrade\\Day24\\train.csv')"
   ]
  },
  {
   "cell_type": "code",
   "execution_count": 20,
   "metadata": {},
   "outputs": [
    {
     "data": {
      "text/plain": [
       "PassengerId      0\n",
       "Survived         0\n",
       "Pclass           0\n",
       "Name             0\n",
       "Sex              0\n",
       "Age              0\n",
       "SibSp            0\n",
       "Parch            0\n",
       "Ticket           0\n",
       "Fare             0\n",
       "Cabin          687\n",
       "Embarked         0\n",
       "dtype: int64"
      ]
     },
     "execution_count": 20,
     "metadata": {},
     "output_type": "execute_result"
    }
   ],
   "source": [
    "df.isna().sum()"
   ]
  },
  {
   "cell_type": "code",
   "execution_count": 21,
   "metadata": {},
   "outputs": [
    {
     "name": "stdout",
     "output_type": "stream",
     "text": [
      "     PassengerId  Survived  Pclass  Name  Sex   Age  SibSp  Parch  Ticket  \\\n",
      "0              1         0       3   108    1  22.0      1      0     522   \n",
      "1              2         1       1   190    0  38.0      1      0     595   \n",
      "2              3         1       3   353    0  26.0      0      0     668   \n",
      "3              4         1       1   272    0  35.0      1      0      48   \n",
      "4              5         0       3    15    1  35.0      0      0     471   \n",
      "..           ...       ...     ...   ...  ...   ...    ...    ...     ...   \n",
      "884          887         0       2   547    1  27.0      0      0     100   \n",
      "885          888         1       1   303    0  19.0      0      0      14   \n",
      "886          889         0       3   412    0  45.0      1      2     674   \n",
      "887          890         1       1    81    1  26.0      0      0       8   \n",
      "888          891         0       3   220    1  32.0      0      0     465   \n",
      "\n",
      "        Fare  Cabin  Embarked  \n",
      "0     7.2500    146         2  \n",
      "1    71.2833     80         0  \n",
      "2     7.9250    146         2  \n",
      "3    53.1000     54         2  \n",
      "4     8.0500    146         2  \n",
      "..       ...    ...       ...  \n",
      "884  13.0000    146         2  \n",
      "885  30.0000     29         2  \n",
      "886  23.4500    146         2  \n",
      "887  30.0000     59         0  \n",
      "888   7.7500    146         1  \n",
      "\n",
      "[889 rows x 12 columns]\n"
     ]
    }
   ],
   "source": [
    "from sklearn.preprocessing import LabelEncoder\n",
    "lb = LabelEncoder()\n",
    "objList = df.select_dtypes(include = \"object\").columns\n",
    "for feat in objList:\n",
    "    df[feat] = lb.fit_transform(df[feat].astype(str))\n",
    "print(df)    "
   ]
  },
  {
   "cell_type": "code",
   "execution_count": 24,
   "metadata": {},
   "outputs": [
    {
     "name": "stderr",
     "output_type": "stream",
     "text": [
      "C:\\ProgramData\\Anaconda3\\lib\\site-packages\\sklearn\\svm\\_base.py:947: ConvergenceWarning: Liblinear failed to converge, increase the number of iterations.\n",
      "  \"the number of iterations.\", ConvergenceWarning)\n"
     ]
    },
    {
     "name": "stdout",
     "output_type": "stream",
     "text": [
      "Survived\n",
      "[[91 18]\n",
      " [18 51]]\n",
      "              precision    recall  f1-score   support\n",
      "\n",
      "           0       0.83      0.83      0.83       109\n",
      "           1       0.74      0.74      0.74        69\n",
      "\n",
      "    accuracy                           0.80       178\n",
      "   macro avg       0.79      0.79      0.79       178\n",
      "weighted avg       0.80      0.80      0.80       178\n",
      "\n",
      "------------------------------------------------------------------------------------\n"
     ]
    },
    {
     "name": "stderr",
     "output_type": "stream",
     "text": [
      "C:\\ProgramData\\Anaconda3\\lib\\site-packages\\sklearn\\svm\\_base.py:947: ConvergenceWarning: Liblinear failed to converge, increase the number of iterations.\n",
      "  \"the number of iterations.\", ConvergenceWarning)\n",
      "C:\\ProgramData\\Anaconda3\\lib\\site-packages\\sklearn\\metrics\\_classification.py:1272: UndefinedMetricWarning: Recall and F-score are ill-defined and being set to 0.0 in labels with no true samples. Use `zero_division` parameter to control this behavior.\n",
      "  _warn_prf(average, modifier, msg_start, len(result))\n",
      "C:\\ProgramData\\Anaconda3\\lib\\site-packages\\sklearn\\svm\\_base.py:947: ConvergenceWarning: Liblinear failed to converge, increase the number of iterations.\n",
      "  \"the number of iterations.\", ConvergenceWarning)\n"
     ]
    },
    {
     "name": "stdout",
     "output_type": "stream",
     "text": [
      "Pclass\n",
      "[[ 0  0  0]\n",
      " [ 0  0  0]\n",
      " [44 42 92]]\n",
      "              precision    recall  f1-score   support\n",
      "\n",
      "           1       0.00      0.00      0.00         0\n",
      "           2       0.00      0.00      0.00         0\n",
      "           3       1.00      0.52      0.68       178\n",
      "\n",
      "    accuracy                           0.52       178\n",
      "   macro avg       0.33      0.17      0.23       178\n",
      "weighted avg       1.00      0.52      0.68       178\n",
      "\n",
      "------------------------------------------------------------------------------------\n",
      "Sex\n",
      "[[62 76]\n",
      " [11 29]]\n",
      "              precision    recall  f1-score   support\n",
      "\n",
      "           0       0.85      0.45      0.59       138\n",
      "           1       0.28      0.72      0.40        40\n",
      "\n",
      "    accuracy                           0.51       178\n",
      "   macro avg       0.56      0.59      0.49       178\n",
      "weighted avg       0.72      0.51      0.55       178\n",
      "\n",
      "------------------------------------------------------------------------------------\n"
     ]
    },
    {
     "name": "stderr",
     "output_type": "stream",
     "text": [
      "C:\\ProgramData\\Anaconda3\\lib\\site-packages\\sklearn\\svm\\_base.py:947: ConvergenceWarning: Liblinear failed to converge, increase the number of iterations.\n",
      "  \"the number of iterations.\", ConvergenceWarning)\n",
      "C:\\ProgramData\\Anaconda3\\lib\\site-packages\\sklearn\\metrics\\_classification.py:1272: UndefinedMetricWarning: Precision and F-score are ill-defined and being set to 0.0 in labels with no predicted samples. Use `zero_division` parameter to control this behavior.\n",
      "  _warn_prf(average, modifier, msg_start, len(result))\n",
      "C:\\ProgramData\\Anaconda3\\lib\\site-packages\\sklearn\\metrics\\_classification.py:1272: UndefinedMetricWarning: Recall and F-score are ill-defined and being set to 0.0 in labels with no true samples. Use `zero_division` parameter to control this behavior.\n",
      "  _warn_prf(average, modifier, msg_start, len(result))\n",
      "C:\\ProgramData\\Anaconda3\\lib\\site-packages\\sklearn\\svm\\_base.py:947: ConvergenceWarning: Liblinear failed to converge, increase the number of iterations.\n",
      "  \"the number of iterations.\", ConvergenceWarning)\n"
     ]
    },
    {
     "name": "stdout",
     "output_type": "stream",
     "text": [
      "SibSp\n",
      "[[119  38   5   1   2   1   0]\n",
      " [  4   1   0   0   0   0   0]\n",
      " [  0   0   0   0   0   0   0]\n",
      " [  0   2   0   0   0   0   0]\n",
      " [  1   0   0   1   0   0   0]\n",
      " [  0   0   0   0   0   0   0]\n",
      " [  1   2   0   0   0   0   0]]\n",
      "              precision    recall  f1-score   support\n",
      "\n",
      "           0       0.95      0.72      0.82       166\n",
      "           1       0.02      0.20      0.04         5\n",
      "           2       0.00      0.00      0.00         0\n",
      "           3       0.00      0.00      0.00         2\n",
      "           4       0.00      0.00      0.00         2\n",
      "           5       0.00      0.00      0.00         0\n",
      "           8       0.00      0.00      0.00         3\n",
      "\n",
      "    accuracy                           0.67       178\n",
      "   macro avg       0.14      0.13      0.12       178\n",
      "weighted avg       0.89      0.67      0.76       178\n",
      "\n",
      "------------------------------------------------------------------------------------\n"
     ]
    },
    {
     "name": "stderr",
     "output_type": "stream",
     "text": [
      "C:\\ProgramData\\Anaconda3\\lib\\site-packages\\sklearn\\metrics\\_classification.py:1272: UndefinedMetricWarning: Precision and F-score are ill-defined and being set to 0.0 in labels with no predicted samples. Use `zero_division` parameter to control this behavior.\n",
      "  _warn_prf(average, modifier, msg_start, len(result))\n",
      "C:\\ProgramData\\Anaconda3\\lib\\site-packages\\sklearn\\metrics\\_classification.py:1272: UndefinedMetricWarning: Recall and F-score are ill-defined and being set to 0.0 in labels with no true samples. Use `zero_division` parameter to control this behavior.\n",
      "  _warn_prf(average, modifier, msg_start, len(result))\n",
      "C:\\ProgramData\\Anaconda3\\lib\\site-packages\\sklearn\\svm\\_base.py:947: ConvergenceWarning: Liblinear failed to converge, increase the number of iterations.\n",
      "  \"the number of iterations.\", ConvergenceWarning)\n"
     ]
    },
    {
     "name": "stdout",
     "output_type": "stream",
     "text": [
      "Parch\n",
      "[[131  25   7   1   2   0]\n",
      " [  0   3   0   0   0   0]\n",
      " [  1   2   5   0   0   0]\n",
      " [  0   0   0   0   0   0]\n",
      " [  0   0   0   0   0   0]\n",
      " [  1   0   0   0   0   0]]\n",
      "              precision    recall  f1-score   support\n",
      "\n",
      "           0       0.98      0.79      0.88       166\n",
      "           1       0.10      1.00      0.18         3\n",
      "           2       0.42      0.62      0.50         8\n",
      "           4       0.00      0.00      0.00         0\n",
      "           5       0.00      0.00      0.00         0\n",
      "           6       0.00      0.00      0.00         1\n",
      "\n",
      "    accuracy                           0.78       178\n",
      "   macro avg       0.25      0.40      0.26       178\n",
      "weighted avg       0.94      0.78      0.84       178\n",
      "\n",
      "------------------------------------------------------------------------------------\n",
      "Embarked\n",
      "[[ 16   3  20]\n",
      " [  0   2   4]\n",
      " [ 20   7 106]]\n",
      "              precision    recall  f1-score   support\n",
      "\n",
      "           0       0.44      0.41      0.43        39\n",
      "           1       0.17      0.33      0.22         6\n",
      "           2       0.82      0.80      0.81       133\n",
      "\n",
      "    accuracy                           0.70       178\n",
      "   macro avg       0.48      0.51      0.48       178\n",
      "weighted avg       0.71      0.70      0.70       178\n",
      "\n",
      "------------------------------------------------------------------------------------\n"
     ]
    }
   ],
   "source": [
    "df = df[['Survived','Pclass','Sex','SibSp','Parch','Embarked','Age']]\n",
    "from sklearn.svm import LinearSVC\n",
    "from sklearn.model_selection import train_test_split\n",
    "from sklearn.metrics import confusion_matrix,classification_report,accuracy_score\n",
    "features = ['Survived','Pclass','Sex','SibSp','Parch','Embarked']\n",
    "for i in features:\n",
    "    x = df.drop(i,axis = 1)\n",
    "    y = df[i]\n",
    "    x_train, x_test, y_train, y_test = train_test_split(x,y,test_size = 0.2,random_state = 42)\n",
    "    svc = LinearSVC(random_state= 0,max_iter=1000)\n",
    "    svc.fit(x_train,y_train)\n",
    "    y_pred = svc.predict(x_test)\n",
    "    con = confusion_matrix(y_pred,y_test)\n",
    "    clas = classification_report(y_pred,y_test)\n",
    "    accuracy = accuracy_score(y_pred,y_test)\n",
    "    print(i)\n",
    "    print(con)\n",
    "    print(clas)\n",
    "    print('------------------------------------------------------------------------------------')\n",
    "\n",
    "    \n",
    "       \n",
    "        "
   ]
  },
  {
   "cell_type": "code",
   "execution_count": null,
   "metadata": {},
   "outputs": [],
   "source": []
  }
 ],
 "metadata": {
  "kernelspec": {
   "display_name": "Python 3",
   "language": "python",
   "name": "python3"
  },
  "language_info": {
   "codemirror_mode": {
    "name": "ipython",
    "version": 3
   },
   "file_extension": ".py",
   "mimetype": "text/x-python",
   "name": "python",
   "nbconvert_exporter": "python",
   "pygments_lexer": "ipython3",
   "version": "3.7.6"
  }
 },
 "nbformat": 4,
 "nbformat_minor": 4
}
