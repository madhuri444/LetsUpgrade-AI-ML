{
 "cells": [
  {
   "cell_type": "markdown",
   "metadata": {},
   "source": [
    "# Letsupgrade Day 5\n",
    "\n",
    "\n"
   ]
  },
  {
   "cell_type": "markdown",
   "metadata": {},
   "source": [
    "# 1.Write a Python program to find the first 20 non-even prime natural numbers.\n",
    "\n"
   ]
  },
  {
   "cell_type": "code",
   "execution_count": null,
   "metadata": {},
   "outputs": [],
   "source": [
    "l = []\n",
    "for i in range(3,100):    \n",
    "    if(len(l) < 20):\n",
    "        for j in range(2,i):\n",
    "            if(i% j == 0):\n",
    "                break\n",
    "        else:\n",
    "            l.append(i)\n",
    "print(l)\n",
    "print(len(l))"
   ]
  },
  {
   "cell_type": "markdown",
   "metadata": {},
   "source": [
    "# 2. Write a Python program to implement 15 functions of string."
   ]
  },
  {
   "cell_type": "code",
   "execution_count": 84,
   "metadata": {},
   "outputs": [
    {
     "name": "stdout",
     "output_type": "stream",
     "text": [
      "Madhuri\n",
      "MADHURI\n",
      "madhuri\n",
      "True\n",
      "False\n",
      "False\n",
      "True\n",
      "False\n",
      "mis a good girlais a good girldis a good girlhis a good girluis a good girlris a good girli\n",
      "['is', 'a', 'good', 'girl']\n",
      "IS A GOOD GIRL\n",
      "7\n",
      "Madhuri\n",
      "('ma', 'd', 'huri')\n",
      "maphuri\n"
     ]
    }
   ],
   "source": [
    "import string\n",
    "str1 = 'madhuri'\n",
    "str2 = 'is a good girl'\n",
    "print(str1.capitalize())\n",
    "print(str1.upper())\n",
    "print(str1.casefold())\n",
    "print(str1.startswith('m'))\n",
    "print(str1.endswith('l'))\n",
    "print(str2.isalnum())\n",
    "print(str1.isalpha())\n",
    "print(str2.isdigit())\n",
    "print(str2.join(str1))\n",
    "print(str2.split())\n",
    "print(str2.swapcase())\n",
    "print(len(str1))\n",
    "print(str1.title())\n",
    "print(str1.rpartition('d'))\n",
    "print(str1.replace('d','p'))\n",
    "\n"
   ]
  },
  {
   "cell_type": "markdown",
   "metadata": {},
   "source": [
    "# 3. Write a Python program to check if the given string is a Palindrome or Anagram or None of them.\n",
    "\n",
    "\n"
   ]
  },
  {
   "cell_type": "code",
   "execution_count": 24,
   "metadata": {},
   "outputs": [
    {
     "name": "stdout",
     "output_type": "stream",
     "text": [
      "Given string is a Palindrome\n",
      "Given string is a anagram\n"
     ]
    }
   ],
   "source": [
    "str1 = 'radar'\n",
    "str2 = str1[::-1]\n",
    "str3 = 'silent'\n",
    "str4 = 'listen'\n",
    "\n",
    "if(str2 == str1):\n",
    "    print(\"Given string is a Palindrome\")\n",
    "else:\n",
    "    print(\"Given String is not Palindrome\")\n",
    "if(sorted(list(str3)) == sorted(list(str4))):\n",
    "    print(\"Given string is a anagram\")\n",
    "else:\n",
    "    print(\"Given string is not a anagram\")\n"
   ]
  },
  {
   "cell_type": "markdown",
   "metadata": {},
   "source": [
    "# 4. Write a Python program to check if the given string is a Palindrome or Anagram or None of them"
   ]
  },
  {
   "cell_type": "code",
   "execution_count": 48,
   "metadata": {},
   "outputs": [
    {
     "name": "stdout",
     "output_type": "stream",
     "text": [
      "drdarshaningleaimltrainer\n"
     ]
    }
   ],
   "source": [
    "str1 = \"Dr. Darshan Ingle @AI-ML Trainer\"\n",
    "list1 = []\n",
    "for i in list(str1):\n",
    "    if(i.isalnum() == True):\n",
    "        list1.append(i)\n",
    "str2 = \"\".join(list1)  \n",
    "print(str2.lower())\n",
    "      \n"
   ]
  }
 ],
 "metadata": {
  "kernelspec": {
   "display_name": "Python 3",
   "language": "python",
   "name": "python3"
  },
  "language_info": {
   "codemirror_mode": {
    "name": "ipython",
    "version": 3
   },
   "file_extension": ".py",
   "mimetype": "text/x-python",
   "name": "python",
   "nbconvert_exporter": "python",
   "pygments_lexer": "ipython3",
   "version": "3.7.6"
  }
 },
 "nbformat": 4,
 "nbformat_minor": 4
}
