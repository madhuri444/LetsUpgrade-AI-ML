{
 "cells": [
  {
   "cell_type": "code",
   "execution_count": 88,
   "metadata": {},
   "outputs": [],
   "source": [
    "import pandas as pd\n",
    "import numpy as np\n",
    "import matplotlib.pyplot as plt"
   ]
  },
  {
   "cell_type": "code",
   "execution_count": 89,
   "metadata": {},
   "outputs": [],
   "source": [
    "df = pd.read_csv(r'C:\\Users\\madhuri\\Desktop\\letsupgrade\\Day24\\train.csv')\n",
    "df1 = pd.read_csv(r'C:\\Users\\madhuri\\Desktop\\letsupgrade\\Day24\\test.csv')\n",
    "x_test1 = df1['Sex']\n",
    "# x_test2 = df1[['Sex','Pclass']]"
   ]
  },
  {
   "cell_type": "code",
   "execution_count": 90,
   "metadata": {},
   "outputs": [
    {
     "data": {
      "text/plain": [
       "PassengerId      0\n",
       "Survived         0\n",
       "Pclass           0\n",
       "Name             0\n",
       "Sex              0\n",
       "Age              0\n",
       "SibSp            0\n",
       "Parch            0\n",
       "Ticket           0\n",
       "Fare             0\n",
       "Cabin          687\n",
       "Embarked         0\n",
       "dtype: int64"
      ]
     },
     "execution_count": 90,
     "metadata": {},
     "output_type": "execute_result"
    }
   ],
   "source": [
    "df.isna().sum()"
   ]
  },
  {
   "cell_type": "code",
   "execution_count": 91,
   "metadata": {},
   "outputs": [
    {
     "name": "stdout",
     "output_type": "stream",
     "text": [
      "0        male\n",
      "1      female\n",
      "2      female\n",
      "3      female\n",
      "4        male\n",
      "        ...  \n",
      "884      male\n",
      "885    female\n",
      "886    female\n",
      "887      male\n",
      "888      male\n",
      "Name: Sex, Length: 889, dtype: object\n"
     ]
    }
   ],
   "source": [
    "y = df['Survived']\n",
    "x = df['Sex'].T\n",
    "x1= df[['Sex','Pclass']]\n",
    "x3= df[['Sex','Pclass','Age','Fare']]\n",
    "print(x)\n",
    "# print(y)\n",
    "# print(x1)\n",
    "# print(x3)"
   ]
  },
  {
   "cell_type": "code",
   "execution_count": 92,
   "metadata": {},
   "outputs": [
    {
     "name": "stdout",
     "output_type": "stream",
     "text": [
      "     0  Pclass\n",
      "0    1       3\n",
      "1    0       1\n",
      "2    0       3\n",
      "3    0       1\n",
      "4    1       3\n",
      "..  ..     ...\n",
      "884  1       2\n",
      "885  0       1\n",
      "886  0       3\n",
      "887  1       1\n",
      "888  1       3\n",
      "\n",
      "[889 rows x 2 columns]\n",
      "     0  Pclass   Age     Fare\n",
      "0    1       3  22.0   7.2500\n",
      "1    0       1  38.0  71.2833\n",
      "2    0       3  26.0   7.9250\n",
      "3    0       1  35.0  53.1000\n",
      "4    1       3  35.0   8.0500\n",
      "..  ..     ...   ...      ...\n",
      "884  1       2  27.0  13.0000\n",
      "885  0       1  19.0  30.0000\n",
      "886  0       3  45.0  23.4500\n",
      "887  1       1  26.0  30.0000\n",
      "888  1       3  32.0   7.7500\n",
      "\n",
      "[889 rows x 4 columns]\n"
     ]
    }
   ],
   "source": [
    "from sklearn.preprocessing import LabelBinarizer\n",
    "lb = LabelBinarizer()\n",
    "x = pd.DataFrame(lb.fit_transform(x))\n",
    "x2 = pd.concat([x,df['Pclass']],axis = 1)\n",
    "x3 = pd.concat([x,df['Pclass'],df['Age'],df['Fare']],axis = 1)\n",
    "x_test1 = pd.DataFrame(lb.fit_transform(x_test1))\n",
    "x_test2 = pd.concat([x_test1,df1['Pclass']],axis = 1)\n",
    "x_test3 = pd.concat([x_test1,df1['Pclass'],df1['Age'],df1['Fare']],axis = 1)\n",
    "print(x2)\n",
    "print(x3)                     "
   ]
  },
  {
   "cell_type": "code",
   "execution_count": 93,
   "metadata": {},
   "outputs": [
    {
     "data": {
      "text/plain": [
       "DecisionTreeClassifier(ccp_alpha=0.0, class_weight=None, criterion='gini',\n",
       "                       max_depth=8, max_features=None, max_leaf_nodes=None,\n",
       "                       min_impurity_decrease=0.0, min_impurity_split=None,\n",
       "                       min_samples_leaf=1, min_samples_split=2,\n",
       "                       min_weight_fraction_leaf=0.0, presort='deprecated',\n",
       "                       random_state=None, splitter='best')"
      ]
     },
     "execution_count": 93,
     "metadata": {},
     "output_type": "execute_result"
    }
   ],
   "source": [
    "from sklearn.tree import DecisionTreeClassifier\n",
    "decision_gender = DecisionTreeClassifier(max_depth=8)\n",
    "decision_gender.fit(x,y)"
   ]
  },
  {
   "cell_type": "code",
   "execution_count": 94,
   "metadata": {},
   "outputs": [
    {
     "name": "stdout",
     "output_type": "stream",
     "text": [
      "(417,)\n"
     ]
    }
   ],
   "source": [
    "y_pred1 = decision_gender.predict(x_test1)\n",
    "print(y_pred1.shape)"
   ]
  },
  {
   "cell_type": "code",
   "execution_count": 95,
   "metadata": {},
   "outputs": [
    {
     "name": "stdout",
     "output_type": "stream",
     "text": [
      "0.7862767154105736\n"
     ]
    }
   ],
   "source": [
    "print(decision_gender.score(x,y))\n"
   ]
  },
  {
   "cell_type": "code",
   "execution_count": 96,
   "metadata": {},
   "outputs": [
    {
     "data": {
      "text/plain": [
       "1.0"
      ]
     },
     "execution_count": 96,
     "metadata": {},
     "output_type": "execute_result"
    }
   ],
   "source": [
    "decision_gender.score(x_test1,y_pred1)"
   ]
  },
  {
   "cell_type": "code",
   "execution_count": 97,
   "metadata": {},
   "outputs": [],
   "source": [
    "decision_gender.fit(x2,y)\n",
    "y_pred2 = decision_gender.predict(x_test2)"
   ]
  },
  {
   "cell_type": "code",
   "execution_count": 98,
   "metadata": {},
   "outputs": [
    {
     "data": {
      "text/plain": [
       "1.0"
      ]
     },
     "execution_count": 98,
     "metadata": {},
     "output_type": "execute_result"
    }
   ],
   "source": [
    "decision_gender.score(x_test2,y_pred2)"
   ]
  },
  {
   "cell_type": "code",
   "execution_count": 99,
   "metadata": {},
   "outputs": [],
   "source": [
    "decision_gender.fit(x3,y)\n",
    "y_pred3 = decision_gender.predict(x_test3)"
   ]
  },
  {
   "cell_type": "code",
   "execution_count": 100,
   "metadata": {},
   "outputs": [
    {
     "data": {
      "text/plain": [
       "1.0"
      ]
     },
     "execution_count": 100,
     "metadata": {},
     "output_type": "execute_result"
    }
   ],
   "source": [
    "decision_gender.score(x_test3,y_pred3)"
   ]
  },
  {
   "cell_type": "code",
   "execution_count": 101,
   "metadata": {},
   "outputs": [],
   "source": [
    "from sklearn import tree\n",
    "with open('decision.dot','w') as f:\n",
    "    f = tree.export_graphviz(decision_gender,feature_names = ['Sex','Pclass','Age','Fare'],out_file = f);"
   ]
  },
  {
   "cell_type": "code",
   "execution_count": 107,
   "metadata": {},
   "outputs": [
    {
     "data": {
      "text/plain": [
       "0.7862767154105736"
      ]
     },
     "execution_count": 107,
     "metadata": {},
     "output_type": "execute_result"
    }
   ],
   "source": [
    "decision2 =  DecisionTreeClassifier()\n",
    "decision2.fit(x2,y)\n",
    "decision2.score(X = x2,y = y)"
   ]
  },
  {
   "cell_type": "code",
   "execution_count": null,
   "metadata": {},
   "outputs": [],
   "source": [
    "from sklearn.ensemble import RandomForestClassifier\n",
    "rf = RandomForestClassifier(n_estimators = 1000,max_features = 4,oob_score = True)\n",
    "features = ['PassengerId','Survived','Pclass','Name','Sex','Age','SibSp','Parch','Ticket','Fare','Cabin','Embarked']\n"
   ]
  },
  {
   "cell_type": "code",
   "execution_count": null,
   "metadata": {},
   "outputs": [],
   "source": []
  }
 ],
 "metadata": {
  "kernelspec": {
   "display_name": "Python 3",
   "language": "python",
   "name": "python3"
  },
  "language_info": {
   "codemirror_mode": {
    "name": "ipython",
    "version": 3
   },
   "file_extension": ".py",
   "mimetype": "text/x-python",
   "name": "python",
   "nbconvert_exporter": "python",
   "pygments_lexer": "ipython3",
   "version": "3.7.6"
  }
 },
 "nbformat": 4,
 "nbformat_minor": 4
}
